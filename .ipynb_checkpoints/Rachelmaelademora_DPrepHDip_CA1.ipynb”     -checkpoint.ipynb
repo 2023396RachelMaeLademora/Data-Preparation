{
 "cells": [
  {
   "cell_type": "markdown",
   "id": "6464558b",
   "metadata": {},
   "source": [
    "Step 1:\n",
    "Import the libraries.\n",
    "\n",
    "This is the library code of the python because without this it will cause error."
   ]
  },
  {
   "cell_type": "code",
   "execution_count": 1,
   "id": "70a9aee0",
   "metadata": {},
   "outputs": [],
   "source": [
    "import pandas as pd \n",
    "import numpy as np\n",
    "import matplotlib.pyplot as plt \n",
    "import seaborn as sns "
   ]
  },
  {
   "cell_type": "code",
   "execution_count": 4,
   "id": "fe6676dc",
   "metadata": {},
   "outputs": [],
   "source": [
    "df = pd.read_csv (\"aps_failure_set.csv\")"
   ]
  },
  {
   "cell_type": "markdown",
   "id": "8c6339e5",
   "metadata": {},
   "source": []
  }
 ],
 "metadata": {
  "kernelspec": {
   "display_name": "Python 3 (ipykernel)",
   "language": "python",
   "name": "python3"
  },
  "language_info": {
   "codemirror_mode": {
    "name": "ipython",
    "version": 3
   },
   "file_extension": ".py",
   "mimetype": "text/x-python",
   "name": "python",
   "nbconvert_exporter": "python",
   "pygments_lexer": "ipython3",
   "version": "3.11.5"
  }
 },
 "nbformat": 4,
 "nbformat_minor": 5
}
